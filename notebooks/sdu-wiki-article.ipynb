{
 "cells": [
  {
   "cell_type": "markdown",
   "metadata": {},
   "source": [
    "# Wikipedia Article Scrapper\n",
    "\n",
    "Scrape related Wikipedia article"
   ]
  },
  {
   "cell_type": "code",
   "execution_count": null,
   "metadata": {
    "_cell_guid": "b1076dfc-b9ad-4769-8c92-a6c4dae69d19",
    "_uuid": "8f2839f25d086af736a60e9eeb907d3b93b6e0e5",
    "execution": {
     "iopub.execute_input": "2020-11-14T04:51:10.741487Z",
     "iopub.status.busy": "2020-11-14T04:51:10.740707Z",
     "iopub.status.idle": "2020-11-14T04:51:23.303801Z",
     "shell.execute_reply": "2020-11-14T04:51:23.302957Z"
    },
    "papermill": {
     "duration": 12.578974,
     "end_time": "2020-11-14T04:51:23.303975",
     "exception": false,
     "start_time": "2020-11-14T04:51:10.725001",
     "status": "completed"
    },
    "tags": []
   },
   "outputs": [],
   "source": [
    "! pip install wikipedia -q"
   ]
  },
  {
   "cell_type": "code",
   "execution_count": null,
   "metadata": {
    "execution": {
     "iopub.execute_input": "2020-11-14T04:51:23.386917Z",
     "iopub.status.busy": "2020-11-14T04:51:23.386110Z",
     "iopub.status.idle": "2020-11-14T04:51:25.621226Z",
     "shell.execute_reply": "2020-11-14T04:51:25.621825Z"
    },
    "papermill": {
     "duration": 2.24878,
     "end_time": "2020-11-14T04:51:25.622015",
     "exception": false,
     "start_time": "2020-11-14T04:51:23.373235",
     "status": "completed"
    },
    "tags": []
   },
   "outputs": [],
   "source": [
    "import spacy\n",
    "nlp = spacy.load('en')"
   ]
  },
  {
   "cell_type": "code",
   "execution_count": null,
   "metadata": {
    "execution": {
     "iopub.execute_input": "2020-11-14T04:51:25.643971Z",
     "iopub.status.busy": "2020-11-14T04:51:25.643195Z",
     "iopub.status.idle": "2020-11-14T04:51:25.990481Z",
     "shell.execute_reply": "2020-11-14T04:51:25.989650Z"
    },
    "papermill": {
     "duration": 0.360435,
     "end_time": "2020-11-14T04:51:25.990633",
     "exception": false,
     "start_time": "2020-11-14T04:51:25.630198",
     "status": "completed"
    },
    "tags": []
   },
   "outputs": [],
   "source": [
    "import wikipedia\n",
    "import pandas as pd\n",
    "import re\n",
    "from joblib import Parallel, delayed\n",
    "from tqdm.notebook import tqdm\n",
    "import json"
   ]
  },
  {
   "cell_type": "code",
   "execution_count": null,
   "metadata": {
    "execution": {
     "iopub.execute_input": "2020-11-14T04:51:23.327630Z",
     "iopub.status.busy": "2020-11-14T04:51:23.326787Z",
     "iopub.status.idle": "2020-11-14T04:51:23.336811Z",
     "shell.execute_reply": "2020-11-14T04:51:23.336143Z"
    },
    "papermill": {
     "duration": 0.024356,
     "end_time": "2020-11-14T04:51:23.336957",
     "exception": false,
     "start_time": "2020-11-14T04:51:23.312601",
     "status": "completed"
    },
    "tags": []
   },
   "outputs": [],
   "source": [
    "DICT = json.load(open('../input/sdu-shared/diction.json'))\n",
    "\n",
    "expansion2acronym = {}\n",
    "for k, v in DICT.items():\n",
    "    for w in v:\n",
    "        expansion2acronym[w] = k"
   ]
  },
  {
   "cell_type": "code",
   "execution_count": null,
   "metadata": {
    "execution": {
     "iopub.execute_input": "2020-11-14T04:51:26.015878Z",
     "iopub.status.busy": "2020-11-14T04:51:26.015096Z",
     "iopub.status.idle": "2020-11-14T04:51:26.021406Z",
     "shell.execute_reply": "2020-11-14T04:51:26.020386Z"
    },
    "papermill": {
     "duration": 0.022293,
     "end_time": "2020-11-14T04:51:26.021557",
     "exception": false,
     "start_time": "2020-11-14T04:51:25.999264",
     "status": "completed"
    },
    "tags": []
   },
   "outputs": [],
   "source": [
    "def extract(term):\n",
    "    try:\n",
    "        summary = wikipedia.page(term).content\n",
    "    except:\n",
    "        try:\n",
    "            suggest_term = wikipedia.suggest(term)\n",
    "            return wikipedia.page(suggest_term).content\n",
    "        except:\n",
    "            return ''\n",
    "    return summary"
   ]
  },
  {
   "cell_type": "code",
   "execution_count": null,
   "metadata": {
    "execution": {
     "iopub.execute_input": "2020-11-14T04:51:26.049403Z",
     "iopub.status.busy": "2020-11-14T04:51:26.048593Z",
     "iopub.status.idle": "2020-11-14T05:09:28.719660Z",
     "shell.execute_reply": "2020-11-14T05:09:28.718948Z"
    },
    "papermill": {
     "duration": 1082.688115,
     "end_time": "2020-11-14T05:09:28.719810",
     "exception": false,
     "start_time": "2020-11-14T04:51:26.031695",
     "status": "completed"
    },
    "tags": []
   },
   "outputs": [],
   "source": [
    "data = Parallel(-1)(delayed(extract)(word) for word in tqdm(expansion2acronym.keys()))"
   ]
  },
  {
   "cell_type": "code",
   "execution_count": null,
   "metadata": {
    "execution": {
     "iopub.execute_input": "2020-11-14T05:09:28.746070Z",
     "iopub.status.busy": "2020-11-14T05:09:28.745331Z",
     "iopub.status.idle": "2020-11-14T05:09:28.961843Z",
     "shell.execute_reply": "2020-11-14T05:09:28.961063Z"
    },
    "papermill": {
     "duration": 0.232314,
     "end_time": "2020-11-14T05:09:28.961969",
     "exception": false,
     "start_time": "2020-11-14T05:09:28.729655",
     "status": "completed"
    },
    "tags": []
   },
   "outputs": [],
   "source": [
    "with open('wiki_article.txt', 'w') as f:\n",
    "    for article in data:\n",
    "        f.write(article + '\\n')"
   ]
  }
 ],
 "metadata": {
  "kernelspec": {
   "display_name": "Python 3",
   "language": "python",
   "name": "python3"
  },
  "language_info": {
   "codemirror_mode": {
    "name": "ipython",
    "version": 3
   },
   "file_extension": ".py",
   "mimetype": "text/x-python",
   "name": "python",
   "nbconvert_exporter": "python",
   "pygments_lexer": "ipython3",
   "version": "3.6.8"
  },
  "papermill": {
   "duration": 1103.433623,
   "end_time": "2020-11-14T05:09:29.087953",
   "environment_variables": {},
   "exception": null,
   "input_path": "__notebook__.ipynb",
   "output_path": "__notebook__.ipynb",
   "parameters": {},
   "start_time": "2020-11-14T04:51:05.654330",
   "version": "2.1.0"
  },
  "widgets": {
   "application/vnd.jupyter.widget-state+json": {
    "state": {
     "0c19b418eff749a1995917ddc4926476": {
      "model_module": "@jupyter-widgets/base",
      "model_module_version": "1.2.0",
      "model_name": "LayoutModel",
      "state": {
       "_model_module": "@jupyter-widgets/base",
       "_model_module_version": "1.2.0",
       "_model_name": "LayoutModel",
       "_view_count": null,
       "_view_module": "@jupyter-widgets/base",
       "_view_module_version": "1.2.0",
       "_view_name": "LayoutView",
       "align_content": null,
       "align_items": null,
       "align_self": null,
       "border": null,
       "bottom": null,
       "display": null,
       "flex": null,
       "flex_flow": null,
       "grid_area": null,
       "grid_auto_columns": null,
       "grid_auto_flow": null,
       "grid_auto_rows": null,
       "grid_column": null,
       "grid_gap": null,
       "grid_row": null,
       "grid_template_areas": null,
       "grid_template_columns": null,
       "grid_template_rows": null,
       "height": null,
       "justify_content": null,
       "justify_items": null,
       "left": null,
       "margin": null,
       "max_height": null,
       "max_width": null,
       "min_height": null,
       "min_width": null,
       "object_fit": null,
       "object_position": null,
       "order": null,
       "overflow": null,
       "overflow_x": null,
       "overflow_y": null,
       "padding": null,
       "right": null,
       "top": null,
       "visibility": null,
       "width": null
      }
     },
     "1014b467aaa546f5a295e8a5663809b8": {
      "model_module": "@jupyter-widgets/controls",
      "model_module_version": "1.5.0",
      "model_name": "HTMLModel",
      "state": {
       "_dom_classes": [],
       "_model_module": "@jupyter-widgets/controls",
       "_model_module_version": "1.5.0",
       "_model_name": "HTMLModel",
       "_view_count": null,
       "_view_module": "@jupyter-widgets/controls",
       "_view_module_version": "1.5.0",
       "_view_name": "HTMLView",
       "description": "",
       "description_tooltip": null,
       "layout": "IPY_MODEL_c8b1038b901f49f884fd8d1de3a7cf20",
       "placeholder": "​",
       "style": "IPY_MODEL_d707c5f6b7c143c891e177759db74349",
       "value": " 2306/2306 [17:56&lt;00:00,  2.14it/s]"
      }
     },
     "4e7de0c167e74ec9be4847030cb9dfbc": {
      "model_module": "@jupyter-widgets/base",
      "model_module_version": "1.2.0",
      "model_name": "LayoutModel",
      "state": {
       "_model_module": "@jupyter-widgets/base",
       "_model_module_version": "1.2.0",
       "_model_name": "LayoutModel",
       "_view_count": null,
       "_view_module": "@jupyter-widgets/base",
       "_view_module_version": "1.2.0",
       "_view_name": "LayoutView",
       "align_content": null,
       "align_items": null,
       "align_self": null,
       "border": null,
       "bottom": null,
       "display": null,
       "flex": null,
       "flex_flow": null,
       "grid_area": null,
       "grid_auto_columns": null,
       "grid_auto_flow": null,
       "grid_auto_rows": null,
       "grid_column": null,
       "grid_gap": null,
       "grid_row": null,
       "grid_template_areas": null,
       "grid_template_columns": null,
       "grid_template_rows": null,
       "height": null,
       "justify_content": null,
       "justify_items": null,
       "left": null,
       "margin": null,
       "max_height": null,
       "max_width": null,
       "min_height": null,
       "min_width": null,
       "object_fit": null,
       "object_position": null,
       "order": null,
       "overflow": null,
       "overflow_x": null,
       "overflow_y": null,
       "padding": null,
       "right": null,
       "top": null,
       "visibility": null,
       "width": null
      }
     },
     "6585137901f5449aafbbf05733860f27": {
      "model_module": "@jupyter-widgets/controls",
      "model_module_version": "1.5.0",
      "model_name": "FloatProgressModel",
      "state": {
       "_dom_classes": [],
       "_model_module": "@jupyter-widgets/controls",
       "_model_module_version": "1.5.0",
       "_model_name": "FloatProgressModel",
       "_view_count": null,
       "_view_module": "@jupyter-widgets/controls",
       "_view_module_version": "1.5.0",
       "_view_name": "ProgressView",
       "bar_style": "success",
       "description": "100%",
       "description_tooltip": null,
       "layout": "IPY_MODEL_4e7de0c167e74ec9be4847030cb9dfbc",
       "max": 2306,
       "min": 0,
       "orientation": "horizontal",
       "style": "IPY_MODEL_f5151e73f37846c692110181563aceb8",
       "value": 2306
      }
     },
     "890ba3312e0341ec869fdf2a768b5574": {
      "model_module": "@jupyter-widgets/controls",
      "model_module_version": "1.5.0",
      "model_name": "HBoxModel",
      "state": {
       "_dom_classes": [],
       "_model_module": "@jupyter-widgets/controls",
       "_model_module_version": "1.5.0",
       "_model_name": "HBoxModel",
       "_view_count": null,
       "_view_module": "@jupyter-widgets/controls",
       "_view_module_version": "1.5.0",
       "_view_name": "HBoxView",
       "box_style": "",
       "children": [
        "IPY_MODEL_6585137901f5449aafbbf05733860f27",
        "IPY_MODEL_1014b467aaa546f5a295e8a5663809b8"
       ],
       "layout": "IPY_MODEL_0c19b418eff749a1995917ddc4926476"
      }
     },
     "c8b1038b901f49f884fd8d1de3a7cf20": {
      "model_module": "@jupyter-widgets/base",
      "model_module_version": "1.2.0",
      "model_name": "LayoutModel",
      "state": {
       "_model_module": "@jupyter-widgets/base",
       "_model_module_version": "1.2.0",
       "_model_name": "LayoutModel",
       "_view_count": null,
       "_view_module": "@jupyter-widgets/base",
       "_view_module_version": "1.2.0",
       "_view_name": "LayoutView",
       "align_content": null,
       "align_items": null,
       "align_self": null,
       "border": null,
       "bottom": null,
       "display": null,
       "flex": null,
       "flex_flow": null,
       "grid_area": null,
       "grid_auto_columns": null,
       "grid_auto_flow": null,
       "grid_auto_rows": null,
       "grid_column": null,
       "grid_gap": null,
       "grid_row": null,
       "grid_template_areas": null,
       "grid_template_columns": null,
       "grid_template_rows": null,
       "height": null,
       "justify_content": null,
       "justify_items": null,
       "left": null,
       "margin": null,
       "max_height": null,
       "max_width": null,
       "min_height": null,
       "min_width": null,
       "object_fit": null,
       "object_position": null,
       "order": null,
       "overflow": null,
       "overflow_x": null,
       "overflow_y": null,
       "padding": null,
       "right": null,
       "top": null,
       "visibility": null,
       "width": null
      }
     },
     "d707c5f6b7c143c891e177759db74349": {
      "model_module": "@jupyter-widgets/controls",
      "model_module_version": "1.5.0",
      "model_name": "DescriptionStyleModel",
      "state": {
       "_model_module": "@jupyter-widgets/controls",
       "_model_module_version": "1.5.0",
       "_model_name": "DescriptionStyleModel",
       "_view_count": null,
       "_view_module": "@jupyter-widgets/base",
       "_view_module_version": "1.2.0",
       "_view_name": "StyleView",
       "description_width": ""
      }
     },
     "f5151e73f37846c692110181563aceb8": {
      "model_module": "@jupyter-widgets/controls",
      "model_module_version": "1.5.0",
      "model_name": "ProgressStyleModel",
      "state": {
       "_model_module": "@jupyter-widgets/controls",
       "_model_module_version": "1.5.0",
       "_model_name": "ProgressStyleModel",
       "_view_count": null,
       "_view_module": "@jupyter-widgets/base",
       "_view_module_version": "1.2.0",
       "_view_name": "StyleView",
       "bar_color": null,
       "description_width": "initial"
      }
     }
    },
    "version_major": 2,
    "version_minor": 0
   }
  }
 },
 "nbformat": 4,
 "nbformat_minor": 4
}
