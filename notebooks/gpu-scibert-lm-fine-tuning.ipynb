{
 "cells": [
  {
   "cell_type": "code",
   "execution_count": null,
   "metadata": {
    "colab": {
     "base_uri": "https://localhost:8080/"
    },
    "id": "xycs6CRXlQNP",
    "outputId": "457d355b-a979-4132-f5c3-98ee97207df1"
   },
   "outputs": [],
   "source": [
    "! pip install --upgrade pip -q\n",
    "! pip install git+https://github.com/huggingface/transformers.git -q\n",
    "! pip install git+https://github.com/huggingface/datasets.git -q"
   ]
  },
  {
   "cell_type": "code",
   "execution_count": null,
   "metadata": {
    "colab": {
     "base_uri": "https://localhost:8080/"
    },
    "id": "NE3c5fsS_Eqf",
    "outputId": "c8ea24ff-6625-4bd8-93ca-7d190c26ef87"
   },
   "outputs": [],
   "source": [
    "from google.colab import drive\n",
    "drive.mount('/gdrive')"
   ]
  },
  {
   "cell_type": "code",
   "execution_count": null,
   "metadata": {
    "id": "VXOnvGlrt3U8"
   },
   "outputs": [],
   "source": [
    "! head -n 700000 /gdrive/My\\ Drive/SDU_2/external_data/wiki_article.txt > train.txt\n",
    "! tail -n 700000 /gdrive/My\\ Drive/SDU_2/external_data/wiki_article.txt > val.txt"
   ]
  },
  {
   "cell_type": "code",
   "execution_count": null,
   "metadata": {
    "colab": {
     "base_uri": "https://localhost:8080/"
    },
    "id": "Jyq4Bu3LAZBO",
    "outputId": "5a3d6f75-3e91-4952-b427-7310019ae56e"
   },
   "outputs": [],
   "source": [
    "! rm -r /gdrive/My\\ Drive/SDU_2/scibert_scivocab_uncased_article && mkdir /gdrive/My\\ Drive/SDU_2/scibert_scivocab_uncased_article\n",
    "\n",
    "! python /gdrive/My\\ Drive/SDU_2/run_mlm.py \\\n",
    "    --model_name_or_path /gdrive/My\\ Drive/SDU_2/scibert_scivocab_uncased \\\n",
    "    --train_file train.txt \\\n",
    "    --validation_file val.txt \\\n",
    "    --do_train \\\n",
    "    --do_eval\\\n",
    "    --output_dir /gdrive/My\\ Drive/SDU_2/scibert_scivocab_uncased_article \\\n",
    "    --line_by_line \\\n",
    "    --max_seq_length 256\\\n",
    "    --num_train_epochs 1\\\n",
    "    --per_device_train_batch_size 16\\\n",
    "    --per_device_eval_batch_size 16\\"
   ]
  },
  {
   "cell_type": "code",
   "execution_count": null,
   "metadata": {
    "id": "tGYyDc-AzMOQ"
   },
   "outputs": [],
   "source": []
  }
 ],
 "metadata": {
  "accelerator": "GPU",
  "colab": {
   "collapsed_sections": [],
   "name": "[GPU] SciBERT Article.ipynb",
   "provenance": []
  },
  "kernelspec": {
   "display_name": "Python 3",
   "language": "python",
   "name": "python3"
  },
  "language_info": {
   "codemirror_mode": {
    "name": "ipython",
    "version": 3
   },
   "file_extension": ".py",
   "mimetype": "text/x-python",
   "name": "python",
   "nbconvert_exporter": "python",
   "pygments_lexer": "ipython3",
   "version": "3.6.8"
  }
 },
 "nbformat": 4,
 "nbformat_minor": 1
}
