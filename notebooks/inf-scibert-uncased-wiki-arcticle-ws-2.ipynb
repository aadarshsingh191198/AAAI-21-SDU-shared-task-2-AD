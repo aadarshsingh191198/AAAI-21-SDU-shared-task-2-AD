{
 "cells": [
  {
   "cell_type": "code",
   "execution_count": 1,
   "metadata": {
    "execution": {
     "iopub.execute_input": "2020-12-04T03:12:26.090586Z",
     "iopub.status.busy": "2020-12-04T03:12:26.089710Z",
     "iopub.status.idle": "2020-12-04T03:12:44.388817Z",
     "shell.execute_reply": "2020-12-04T03:12:44.387341Z"
    },
    "executionInfo": {
     "elapsed": 7684,
     "status": "ok",
     "timestamp": 1602075454716,
     "user": {
      "displayName": "kpriyanshu256.16je001901@ece.ism.ac.in",
      "photoUrl": "",
      "userId": "03532460980266287093"
     },
     "user_tz": -330
    },
    "id": "MeXnIUcEthYO",
    "papermill": {
     "duration": 18.3239,
     "end_time": "2020-12-04T03:12:44.388945",
     "exception": false,
     "start_time": "2020-12-04T03:12:26.065045",
     "status": "completed"
    },
    "tags": []
   },
   "outputs": [
    {
     "name": "stdout",
     "output_type": "stream",
     "text": [
      "\u001b[33mWARNING: You are using pip version 20.2.4; however, version 20.3.1 is available.\r\n",
      "You should consider upgrading via the '/opt/conda/bin/python3.7 -m pip install --upgrade pip' command.\u001b[0m\r\n",
      "\u001b[33mWARNING: You are using pip version 20.2.4; however, version 20.3.1 is available.\r\n",
      "You should consider upgrading via the '/opt/conda/bin/python3.7 -m pip install --upgrade pip' command.\u001b[0m\r\n"
     ]
    }
   ],
   "source": [
    "! pip install transformers -q\n",
    "! pip install tokenizers -q"
   ]
  },
  {
   "cell_type": "code",
   "execution_count": 2,
   "metadata": {
    "execution": {
     "iopub.execute_input": "2020-12-04T03:12:44.433286Z",
     "iopub.status.busy": "2020-12-04T03:12:44.432392Z",
     "iopub.status.idle": "2020-12-04T03:12:45.494573Z",
     "shell.execute_reply": "2020-12-04T03:12:45.493423Z"
    },
    "executionInfo": {
     "elapsed": 7152,
     "status": "ok",
     "timestamp": 1602075454732,
     "user": {
      "displayName": "kpriyanshu256.16je001901@ece.ism.ac.in",
      "photoUrl": "",
      "userId": "03532460980266287093"
     },
     "user_tz": -330
    },
    "id": "IOFhm9xStmQV",
    "papermill": {
     "duration": 1.086804,
     "end_time": "2020-12-04T03:12:45.494742",
     "exception": false,
     "start_time": "2020-12-04T03:12:44.407938",
     "status": "completed"
    },
    "tags": []
   },
   "outputs": [],
   "source": [
    "import re\n",
    "import json\n",
    "import ast\n",
    "import os\n",
    "import pandas as pd\n",
    "from pathlib import Path\n",
    "import matplotlib.cm as cm\n",
    "import numpy as np\n",
    "import pandas as pd\n",
    "from typing import *\n",
    "from tqdm.notebook import tqdm\n",
    "from sklearn.utils.extmath import softmax\n",
    "from sklearn import model_selection\n",
    "from sklearn.metrics import classification_report, f1_score"
   ]
  },
  {
   "cell_type": "code",
   "execution_count": 3,
   "metadata": {
    "execution": {
     "iopub.execute_input": "2020-12-04T03:12:45.534786Z",
     "iopub.status.busy": "2020-12-04T03:12:45.534057Z",
     "iopub.status.idle": "2020-12-04T03:12:55.494093Z",
     "shell.execute_reply": "2020-12-04T03:12:55.493283Z"
    },
    "executionInfo": {
     "elapsed": 6462,
     "status": "ok",
     "timestamp": 1602075454741,
     "user": {
      "displayName": "kpriyanshu256.16je001901@ece.ism.ac.in",
      "photoUrl": "",
      "userId": "03532460980266287093"
     },
     "user_tz": -330
    },
    "id": "-JsXpQNttsRg",
    "papermill": {
     "duration": 9.981809,
     "end_time": "2020-12-04T03:12:55.494255",
     "exception": false,
     "start_time": "2020-12-04T03:12:45.512446",
     "status": "completed"
    },
    "tags": []
   },
   "outputs": [
    {
     "name": "stderr",
     "output_type": "stream",
     "text": [
      "\u001b[34m\u001b[1mwandb\u001b[0m: \u001b[33mWARNING\u001b[0m W&B installed but not logged in.  Run `wandb login` or set the WANDB_API_KEY env variable.\n"
     ]
    }
   ],
   "source": [
    "import torch\n",
    "import torch.optim as optim\n",
    "import torch.nn as nn\n",
    "import transformers\n",
    "from transformers import AdamW\n",
    "import tokenizers"
   ]
  },
  {
   "cell_type": "code",
   "execution_count": 4,
   "metadata": {
    "execution": {
     "iopub.execute_input": "2020-12-04T03:12:55.548423Z",
     "iopub.status.busy": "2020-12-04T03:12:55.546809Z",
     "iopub.status.idle": "2020-12-04T03:12:55.549166Z",
     "shell.execute_reply": "2020-12-04T03:12:55.549813Z"
    },
    "executionInfo": {
     "elapsed": 5533,
     "status": "ok",
     "timestamp": 1602075454748,
     "user": {
      "displayName": "kpriyanshu256.16je001901@ece.ism.ac.in",
      "photoUrl": "",
      "userId": "03532460980266287093"
     },
     "user_tz": -330
    },
    "id": "vTdjnvlytwNV",
    "papermill": {
     "duration": 0.034932,
     "end_time": "2020-12-04T03:12:55.549942",
     "exception": false,
     "start_time": "2020-12-04T03:12:55.515010",
     "status": "completed"
    },
    "tags": []
   },
   "outputs": [],
   "source": [
    "def seed_all(seed = 42):\n",
    "  \"\"\"\n",
    "  Fix seed for reproducibility\n",
    "  \"\"\"\n",
    "  # python RNG\n",
    "  import random\n",
    "  random.seed(seed)\n",
    "\n",
    "  # pytorch RNGs\n",
    "  import torch\n",
    "  torch.manual_seed(seed)\n",
    "  torch.backends.cudnn.deterministic = True\n",
    "  if torch.cuda.is_available(): torch.cuda.manual_seed_all(seed)\n",
    "\n",
    "  # numpy RNG\n",
    "  import numpy as np\n",
    "  np.random.seed(seed)"
   ]
  },
  {
   "cell_type": "code",
   "execution_count": 5,
   "metadata": {
    "execution": {
     "iopub.execute_input": "2020-12-04T03:12:55.633627Z",
     "iopub.status.busy": "2020-12-04T03:12:55.632122Z",
     "iopub.status.idle": "2020-12-04T03:12:55.642356Z",
     "shell.execute_reply": "2020-12-04T03:12:55.641823Z"
    },
    "executionInfo": {
     "elapsed": 3303,
     "status": "ok",
     "timestamp": 1602075793998,
     "user": {
      "displayName": "kpriyanshu256.16je001901@ece.ism.ac.in",
      "photoUrl": "",
      "userId": "03532460980266287093"
     },
     "user_tz": -330
    },
    "id": "mMHkNSVGumlX",
    "papermill": {
     "duration": 0.072005,
     "end_time": "2020-12-04T03:12:55.642487",
     "exception": false,
     "start_time": "2020-12-04T03:12:55.570482",
     "status": "completed"
    },
    "tags": []
   },
   "outputs": [],
   "source": [
    "class config:\n",
    "  SEED = 42\n",
    "  KFOLD = 5\n",
    "  TRAIN_FILE = '../input/sdu-shared/train.csv'\n",
    "  VAL_FILE = '../input/sdu-shared/dev.csv'\n",
    "  TEST_FILE = '../input/sdu-shared/test.csv'\n",
    "  SAVE_DIR = '../input/gpu-scibert-uncased-wiki-article-ws-sdu-2'\n",
    "  MAX_LEN = 192\n",
    "  MODEL = '../input/scibert-uncased'\n",
    "  TOKENIZER = tokenizers.BertWordPieceTokenizer(f\"{MODEL}/vocab.txt\", lowercase=True)\n",
    "  EPOCHS = 5\n",
    "  TRAIN_BATCH_SIZE = 32\n",
    "  VALID_BATCH_SIZE = 16\n",
    "  DICTIONARY = json.load(open('../input/sdu-shared/diction.json'))\n",
    "  \n",
    "  A2ID = {}\n",
    "  for k, v in DICTIONARY.items():\n",
    "    for w in v:\n",
    "      A2ID[w] = len(A2ID)\n"
   ]
  },
  {
   "cell_type": "code",
   "execution_count": 6,
   "metadata": {
    "execution": {
     "iopub.execute_input": "2020-12-04T03:12:55.689112Z",
     "iopub.status.busy": "2020-12-04T03:12:55.688356Z",
     "iopub.status.idle": "2020-12-04T03:12:55.691852Z",
     "shell.execute_reply": "2020-12-04T03:12:55.692343Z"
    },
    "executionInfo": {
     "elapsed": 1308,
     "status": "ok",
     "timestamp": 1602075466630,
     "user": {
      "displayName": "kpriyanshu256.16je001901@ece.ism.ac.in",
      "photoUrl": "",
      "userId": "03532460980266287093"
     },
     "user_tz": -330
    },
    "id": "j-_-jJZ9zYYN",
    "papermill": {
     "duration": 0.029788,
     "end_time": "2020-12-04T03:12:55.692483",
     "exception": false,
     "start_time": "2020-12-04T03:12:55.662695",
     "status": "completed"
    },
    "tags": []
   },
   "outputs": [],
   "source": [
    "class AverageMeter:\n",
    "    \"\"\"\n",
    "    Computes and stores the average and current value\n",
    "    Source : https://www.kaggle.com/abhishek/bert-base-uncased-using-pytorch/\n",
    "    \"\"\"\n",
    "    def __init__(self):\n",
    "        self.reset()\n",
    "\n",
    "    def reset(self):\n",
    "        self.val = 0\n",
    "        self.avg = 0\n",
    "        self.sum = 0\n",
    "        self.count = 0\n",
    "\n",
    "    def update(self, val, n=1):\n",
    "        self.val = val\n",
    "        self.sum += val * n\n",
    "        self.count += n\n",
    "        self.avg = self.sum / self.count"
   ]
  },
  {
   "cell_type": "code",
   "execution_count": 7,
   "metadata": {
    "execution": {
     "iopub.execute_input": "2020-12-04T03:12:55.739324Z",
     "iopub.status.busy": "2020-12-04T03:12:55.738759Z",
     "iopub.status.idle": "2020-12-04T03:12:55.742819Z",
     "shell.execute_reply": "2020-12-04T03:12:55.742145Z"
    },
    "executionInfo": {
     "elapsed": 1502,
     "status": "ok",
     "timestamp": 1602075469835,
     "user": {
      "displayName": "kpriyanshu256.16je001901@ece.ism.ac.in",
      "photoUrl": "",
      "userId": "03532460980266287093"
     },
     "user_tz": -330
    },
    "id": "ssCvflkBANC5",
    "papermill": {
     "duration": 0.030803,
     "end_time": "2020-12-04T03:12:55.742932",
     "exception": false,
     "start_time": "2020-12-04T03:12:55.712129",
     "status": "completed"
    },
    "tags": []
   },
   "outputs": [],
   "source": [
    "def sample_text(text, acronym, max_len):\n",
    "  text = text.split()\n",
    "  idx = text.index(acronym)\n",
    "  left_idx = max(0, idx - max_len//2)\n",
    "  right_idx = min(len(text), idx + max_len//2)\n",
    "  sampled_text = text[left_idx:right_idx]\n",
    "  return ' '.join(sampled_text)"
   ]
  },
  {
   "cell_type": "code",
   "execution_count": 8,
   "metadata": {
    "execution": {
     "iopub.execute_input": "2020-12-04T03:12:55.805977Z",
     "iopub.status.busy": "2020-12-04T03:12:55.804077Z",
     "iopub.status.idle": "2020-12-04T03:12:55.806788Z",
     "shell.execute_reply": "2020-12-04T03:12:55.807337Z"
    },
    "executionInfo": {
     "elapsed": 999,
     "status": "ok",
     "timestamp": 1602075469838,
     "user": {
      "displayName": "kpriyanshu256.16je001901@ece.ism.ac.in",
      "photoUrl": "",
      "userId": "03532460980266287093"
     },
     "user_tz": -330
    },
    "id": "IoZ1L2smuMDd",
    "papermill": {
     "duration": 0.046647,
     "end_time": "2020-12-04T03:12:55.807526",
     "exception": false,
     "start_time": "2020-12-04T03:12:55.760879",
     "status": "completed"
    },
    "tags": []
   },
   "outputs": [],
   "source": [
    "def process_data(text, acronym, expansion, tokenizer, max_len):\n",
    "\n",
    "  text = str(text)\n",
    "  expansion = str(expansion)\n",
    "  acronym = str(acronym)\n",
    "\n",
    "  n_tokens = len(text.split())\n",
    "  if n_tokens>120:\n",
    "    text = sample_text(text, acronym, 120)\n",
    "\n",
    "  answers = acronym + ' ' + ' '.join(config.DICTIONARY[acronym])\n",
    "  start = answers.find(expansion)\n",
    "  end = start + len(expansion)\n",
    "\n",
    "  char_mask = [0]*len(answers)\n",
    "  for i in range(start, end):\n",
    "    char_mask[i] = 1\n",
    "  \n",
    "  tok_answer = tokenizer.encode(answers)\n",
    "  answer_ids = tok_answer.ids\n",
    "  answer_offsets = tok_answer.offsets\n",
    "\n",
    "  answer_ids = answer_ids[1:-1]\n",
    "  answer_offsets = answer_offsets[1:-1]\n",
    "\n",
    "  target_idx = []\n",
    "  for i, (off1, off2) in enumerate(answer_offsets):\n",
    "      if sum(char_mask[off1:off2])>0:\n",
    "        target_idx.append(i)\n",
    "\n",
    "  start = target_idx[0]\n",
    "  end = target_idx[-1]\n",
    "\n",
    "  \n",
    "  text_ids = tokenizer.encode(text).ids[1:-1]\n",
    "\n",
    "  token_ids = [101] + answer_ids + [102] + text_ids + [102]\n",
    "  offsets =   [(0,0)] + answer_offsets + [(0,0)]*(len(text_ids) + 2)\n",
    "  mask = [1] * len(token_ids)\n",
    "  token_type = [0]*(len(answer_ids) + 1) + [1]*(2+len(text_ids))\n",
    "\n",
    "  text = answers + text\n",
    "  start = start + 1\n",
    "  end = end + 1\n",
    "\n",
    "  padding = max_len - len(token_ids)\n",
    "    \n",
    "\n",
    "  if padding>=0:\n",
    "    token_ids = token_ids + ([0] * padding)\n",
    "    token_type = token_type + [1] * padding\n",
    "    mask = mask + ([0] * padding)\n",
    "    offsets = offsets + ([(0, 0)] * padding)\n",
    "  else:\n",
    "    token_ids = token_ids[0:max_len]\n",
    "    token_type = token_type[0:max_len]\n",
    "    mask = mask[0:max_len]\n",
    "    offsets = offsets[0:max_len]\n",
    "  \n",
    "\n",
    "  assert len(token_ids)==max_len\n",
    "  assert len(mask)==max_len\n",
    "  assert len(offsets)==max_len\n",
    "  assert len(token_type)==max_len\n",
    "\n",
    "  return {\n",
    "          'ids': token_ids,\n",
    "          'mask': mask,\n",
    "          'token_type': token_type,\n",
    "          'offset': offsets,\n",
    "          'start': start,\n",
    "          'end': end,  \n",
    "          'text': text,\n",
    "          'expansion': expansion,\n",
    "          'acronym': acronym,\n",
    "        }\n"
   ]
  },
  {
   "cell_type": "code",
   "execution_count": 9,
   "metadata": {
    "execution": {
     "iopub.execute_input": "2020-12-04T03:12:55.858817Z",
     "iopub.status.busy": "2020-12-04T03:12:55.857987Z",
     "iopub.status.idle": "2020-12-04T03:12:55.861824Z",
     "shell.execute_reply": "2020-12-04T03:12:55.862333Z"
    },
    "executionInfo": {
     "elapsed": 1135,
     "status": "ok",
     "timestamp": 1602075471434,
     "user": {
      "displayName": "kpriyanshu256.16je001901@ece.ism.ac.in",
      "photoUrl": "",
      "userId": "03532460980266287093"
     },
     "user_tz": -330
    },
    "id": "XUhLupPgwL1M",
    "papermill": {
     "duration": 0.035568,
     "end_time": "2020-12-04T03:12:55.862473",
     "exception": false,
     "start_time": "2020-12-04T03:12:55.826905",
     "status": "completed"
    },
    "tags": []
   },
   "outputs": [],
   "source": [
    "class Dataset:\n",
    "    def __init__(self, text, acronym, expansion):\n",
    "        self.text = text\n",
    "        self.acronym = acronym\n",
    "        self.expansion = expansion\n",
    "        self.tokenizer = config.TOKENIZER\n",
    "        self.max_len = config.MAX_LEN\n",
    "    \n",
    "    def __len__(self):\n",
    "        return len(self.text)\n",
    "\n",
    "    def __getitem__(self, item):\n",
    "        data = process_data(\n",
    "            self.text[item],\n",
    "            self.acronym[item],\n",
    "            self.expansion[item], \n",
    "            self.tokenizer,\n",
    "            self.max_len,\n",
    "            \n",
    "        )\n",
    "\n",
    "        return {\n",
    "            'ids': torch.tensor(data['ids'], dtype=torch.long),\n",
    "            'mask': torch.tensor(data['mask'], dtype=torch.long),\n",
    "            'token_type': torch.tensor(data['token_type'], dtype=torch.long),\n",
    "            'offset': torch.tensor(data['offset'], dtype=torch.long),\n",
    "            'start': torch.tensor(data['start'], dtype=torch.long),\n",
    "            'end': torch.tensor(data['end'], dtype=torch.long),\n",
    "            'text': data['text'],\n",
    "            'expansion': data['expansion'],\n",
    "            'acronym': data['acronym'],\n",
    "        }"
   ]
  },
  {
   "cell_type": "code",
   "execution_count": 10,
   "metadata": {
    "execution": {
     "iopub.execute_input": "2020-12-04T03:12:55.909325Z",
     "iopub.status.busy": "2020-12-04T03:12:55.907352Z",
     "iopub.status.idle": "2020-12-04T03:12:55.910162Z",
     "shell.execute_reply": "2020-12-04T03:12:55.910681Z"
    },
    "executionInfo": {
     "elapsed": 1672,
     "status": "ok",
     "timestamp": 1602075473625,
     "user": {
      "displayName": "kpriyanshu256.16je001901@ece.ism.ac.in",
      "photoUrl": "",
      "userId": "03532460980266287093"
     },
     "user_tz": -330
    },
    "id": "vSLoNTjXKfcj",
    "papermill": {
     "duration": 0.028753,
     "end_time": "2020-12-04T03:12:55.910811",
     "exception": false,
     "start_time": "2020-12-04T03:12:55.882058",
     "status": "completed"
    },
    "tags": []
   },
   "outputs": [],
   "source": [
    "def get_loss(start, start_logits, end, end_logits):\n",
    "  loss_fn = nn.CrossEntropyLoss()\n",
    "  start_loss = loss_fn(start_logits, start)\n",
    "  end_loss = loss_fn(end_logits, end)\n",
    "  loss = start_loss + end_loss\n",
    "  return loss"
   ]
  },
  {
   "cell_type": "code",
   "execution_count": 11,
   "metadata": {
    "execution": {
     "iopub.execute_input": "2020-12-04T03:12:55.960754Z",
     "iopub.status.busy": "2020-12-04T03:12:55.958752Z",
     "iopub.status.idle": "2020-12-04T03:12:55.961656Z",
     "shell.execute_reply": "2020-12-04T03:12:55.962209Z"
    },
    "executionInfo": {
     "elapsed": 1485,
     "status": "ok",
     "timestamp": 1602075474200,
     "user": {
      "displayName": "kpriyanshu256.16je001901@ece.ism.ac.in",
      "photoUrl": "",
      "userId": "03532460980266287093"
     },
     "user_tz": -330
    },
    "id": "0J4LXtTDEOWt",
    "papermill": {
     "duration": 0.032962,
     "end_time": "2020-12-04T03:12:55.962317",
     "exception": false,
     "start_time": "2020-12-04T03:12:55.929355",
     "status": "completed"
    },
    "tags": []
   },
   "outputs": [],
   "source": [
    "class BertAD(nn.Module):\n",
    "  def __init__(self):\n",
    "    super(BertAD, self).__init__()\n",
    "    self.bert = transformers.BertModel.from_pretrained(config.MODEL, output_hidden_states=True)\n",
    "    self.layer = nn.Linear(768, 2)\n",
    "    \n",
    "\n",
    "  def forward(self, ids, mask, token_type, start=None, end=None):\n",
    "    output = self.bert(input_ids = ids,\n",
    "                       attention_mask = mask,\n",
    "                       token_type_ids = token_type)\n",
    "    \n",
    "    logits = self.layer(output[0]) \n",
    "    start_logits, end_logits = logits.split(1, dim=-1)\n",
    "    \n",
    "    start_logits = start_logits.squeeze(-1)\n",
    "    end_logits = end_logits.squeeze(-1)\n",
    "\n",
    "    loss = get_loss(start, start_logits, end, end_logits)    \n",
    "\n",
    "    return loss, start_logits, end_logits"
   ]
  },
  {
   "cell_type": "code",
   "execution_count": 12,
   "metadata": {
    "execution": {
     "iopub.execute_input": "2020-12-04T03:12:56.007593Z",
     "iopub.status.busy": "2020-12-04T03:12:56.006737Z",
     "iopub.status.idle": "2020-12-04T03:12:56.010591Z",
     "shell.execute_reply": "2020-12-04T03:12:56.011262Z"
    },
    "executionInfo": {
     "elapsed": 1022,
     "status": "ok",
     "timestamp": 1602075475717,
     "user": {
      "displayName": "kpriyanshu256.16je001901@ece.ism.ac.in",
      "photoUrl": "",
      "userId": "03532460980266287093"
     },
     "user_tz": -330
    },
    "id": "hzctCj1Rx-qD",
    "papermill": {
     "duration": 0.02931,
     "end_time": "2020-12-04T03:12:56.011399",
     "exception": false,
     "start_time": "2020-12-04T03:12:55.982089",
     "status": "completed"
    },
    "tags": []
   },
   "outputs": [],
   "source": [
    "def jaccard(str1, str2): \n",
    "    a = set(str1.lower().split()) \n",
    "    b = set(str2.lower().split())\n",
    "    c = a.intersection(b)\n",
    "    return float(len(c)) / (len(a) + len(b) - len(c))"
   ]
  },
  {
   "cell_type": "code",
   "execution_count": 13,
   "metadata": {
    "execution": {
     "iopub.execute_input": "2020-12-04T03:12:56.061927Z",
     "iopub.status.busy": "2020-12-04T03:12:56.061232Z",
     "iopub.status.idle": "2020-12-04T03:12:56.064434Z",
     "shell.execute_reply": "2020-12-04T03:12:56.064918Z"
    },
    "executionInfo": {
     "elapsed": 1402,
     "status": "ok",
     "timestamp": 1602075481239,
     "user": {
      "displayName": "kpriyanshu256.16je001901@ece.ism.ac.in",
      "photoUrl": "",
      "userId": "03532460980266287093"
     },
     "user_tz": -330
    },
    "id": "GaeQFvcTxB6p",
    "papermill": {
     "duration": 0.033364,
     "end_time": "2020-12-04T03:12:56.065024",
     "exception": false,
     "start_time": "2020-12-04T03:12:56.031660",
     "status": "completed"
    },
    "tags": []
   },
   "outputs": [],
   "source": [
    "def evaluate_jaccard(text, selected_text, acronym, offsets, idx_start, idx_end):\n",
    "  filtered_output = \"\"\n",
    "  for ix in range(idx_start, idx_end + 1):\n",
    "      filtered_output += text[offsets[ix][0]: offsets[ix][1]]\n",
    "      if (ix+1) < len(offsets) and offsets[ix][1] < offsets[ix+1][0]:\n",
    "          filtered_output += \" \"\n",
    "\n",
    "  candidates = config.DICTIONARY[acronym]\n",
    "  candidate_jaccards = [jaccard(w.strip(), filtered_output.strip()) for w in candidates]\n",
    "  idx = np.argmax(candidate_jaccards)\n",
    "\n",
    "  return candidate_jaccards[idx], candidates[idx]"
   ]
  },
  {
   "cell_type": "code",
   "execution_count": 14,
   "metadata": {
    "execution": {
     "iopub.execute_input": "2020-12-04T03:12:56.119158Z",
     "iopub.status.busy": "2020-12-04T03:12:56.118216Z",
     "iopub.status.idle": "2020-12-04T03:13:19.523656Z",
     "shell.execute_reply": "2020-12-04T03:13:19.524167Z"
    },
    "id": "jUgOroboFGUT",
    "papermill": {
     "duration": 23.439559,
     "end_time": "2020-12-04T03:13:19.524318",
     "exception": false,
     "start_time": "2020-12-04T03:12:56.084759",
     "status": "completed"
    },
    "tags": []
   },
   "outputs": [
    {
     "name": "stdout",
     "output_type": "stream",
     "text": [
      "Models loaded\n"
     ]
    }
   ],
   "source": [
    "device = torch.device(\"cuda:0\" if torch.cuda.is_available() else \"cpu\")\n",
    "\n",
    "model0 = BertAD()\n",
    "vec = model0.state_dict()['bert.embeddings.position_ids']\n",
    "chkp = torch.load(os.path.join(config.SAVE_DIR, 'model_0.bin'), map_location=device)\n",
    "chkp['bert.embeddings.position_ids'] = vec\n",
    "model0.load_state_dict(chkp)\n",
    "model0.to(device)\n",
    "model0.eval()\n",
    "\n",
    "model1 = BertAD()\n",
    "chkp = torch.load(os.path.join(config.SAVE_DIR, 'model_1.bin'), map_location=device)\n",
    "chkp['bert.embeddings.position_ids'] = vec\n",
    "model1.load_state_dict(chkp)\n",
    "model1.to(device)\n",
    "model1.eval()\n",
    "\n",
    "\n",
    "model2 = BertAD()\n",
    "chkp = torch.load(os.path.join(config.SAVE_DIR, 'model_2.bin'), map_location=device)\n",
    "chkp['bert.embeddings.position_ids'] = vec\n",
    "model2.load_state_dict(chkp)\n",
    "model2.to(device)\n",
    "model2.eval()\n",
    "\n",
    "model3 = BertAD()\n",
    "chkp = torch.load(os.path.join(config.SAVE_DIR, 'model_3.bin'), map_location=device)\n",
    "chkp['bert.embeddings.position_ids'] = vec\n",
    "model3.load_state_dict(chkp)\n",
    "model3.to(device)\n",
    "model3.eval()\n",
    "\n",
    "model4 = BertAD()\n",
    "chkp = torch.load(os.path.join(config.SAVE_DIR, 'model_4.bin'), map_location=device)\n",
    "chkp['bert.embeddings.position_ids'] = vec\n",
    "model4.load_state_dict(chkp)\n",
    "model4.to(device)\n",
    "model4.eval()\n",
    "\n",
    "print('Models loaded')"
   ]
  },
  {
   "cell_type": "code",
   "execution_count": 15,
   "metadata": {
    "execution": {
     "iopub.execute_input": "2020-12-04T03:13:19.572555Z",
     "iopub.status.busy": "2020-12-04T03:13:19.571169Z",
     "iopub.status.idle": "2020-12-04T03:13:19.603919Z",
     "shell.execute_reply": "2020-12-04T03:13:19.602484Z"
    },
    "executionInfo": {
     "elapsed": 1235,
     "status": "ok",
     "timestamp": 1602078062845,
     "user": {
      "displayName": "kpriyanshu256.16je001901@ece.ism.ac.in",
      "photoUrl": "",
      "userId": "03532460980266287093"
     },
     "user_tz": -330
    },
    "id": "FN6Dz5BRGBJz",
    "papermill": {
     "duration": 0.059283,
     "end_time": "2020-12-04T03:13:19.604040",
     "exception": false,
     "start_time": "2020-12-04T03:13:19.544757",
     "status": "completed"
    },
    "tags": []
   },
   "outputs": [],
   "source": [
    "test = pd.read_csv(config.TEST_FILE)\n",
    "test['expansion'] = test['acronym_']\n",
    "\n",
    "test_dataset = Dataset(\n",
    "        text = test.text.values,\n",
    "        acronym = test.acronym_.values,\n",
    "        expansion = test.expansion.values,\n",
    "    )\n",
    "    \n",
    "  \n",
    "test_data_loader = torch.utils.data.DataLoader(\n",
    "      test_dataset,\n",
    "      batch_size=config.VALID_BATCH_SIZE,\n",
    "      num_workers=2\n",
    "  )"
   ]
  },
  {
   "cell_type": "code",
   "execution_count": 16,
   "metadata": {
    "execution": {
     "iopub.execute_input": "2020-12-04T03:13:19.671079Z",
     "iopub.status.busy": "2020-12-04T03:13:19.657744Z",
     "iopub.status.idle": "2020-12-04T03:16:41.394593Z",
     "shell.execute_reply": "2020-12-04T03:16:41.393966Z"
    },
    "executionInfo": {
     "elapsed": 698829,
     "status": "ok",
     "timestamp": 1602077942166,
     "user": {
      "displayName": "kpriyanshu256.16je001901@ece.ism.ac.in",
      "photoUrl": "",
      "userId": "03532460980266287093"
     },
     "user_tz": -330
    },
    "id": "pSQNnIl-x3om",
    "outputId": "f220c728-3e7c-4d1f-938c-26b907808932",
    "papermill": {
     "duration": 201.769774,
     "end_time": "2020-12-04T03:16:41.394717",
     "exception": false,
     "start_time": "2020-12-04T03:13:19.624943",
     "status": "completed"
    },
    "tags": []
   },
   "outputs": [
    {
     "data": {
      "application/vnd.jupyter.widget-view+json": {
       "model_id": "9a9db8cccdf94700b1878bd2db38812b",
       "version_major": 2,
       "version_minor": 0
      },
      "text/plain": [
       "HBox(children=(FloatProgress(value=0.0, max=389.0), HTML(value='')))"
      ]
     },
     "metadata": {},
     "output_type": "display_data"
    },
    {
     "name": "stdout",
     "output_type": "stream",
     "text": [
      "\n"
     ]
    }
   ],
   "source": [
    "jac = AverageMeter()\n",
    "\n",
    "tk0 = tqdm(test_data_loader, total=len(test_data_loader))\n",
    "\n",
    "pred_expansion_ = []\n",
    "true_expansion_ = []\n",
    "\n",
    "for bi, d in enumerate(tk0):\n",
    "  ids = d['ids']\n",
    "  mask = d['mask']\n",
    "  token_type = d['token_type']\n",
    "  start = d['start']\n",
    "  end = d['end']\n",
    "  \n",
    "  text = d['text']\n",
    "  expansion = d['expansion']\n",
    "  offset = d['offset']\n",
    "  acronym = d['acronym']\n",
    "\n",
    "\n",
    "  ids = ids.to(device, dtype=torch.long)\n",
    "  mask = mask.to(device, dtype=torch.long)\n",
    "  token_type = token_type.to(device, dtype=torch.long)\n",
    "  start = start.to(device, dtype=torch.long)\n",
    "  end = end.to(device, dtype=torch.long)\n",
    "  \n",
    "  with torch.no_grad():\n",
    "    _, start_logits_0, end_logits_0 = model0(ids, mask, token_type, start, end)\n",
    "    _, start_logits_1, end_logits_1 = model1(ids, mask, token_type, start, end)\n",
    "    _, start_logits_2, end_logits_2 = model2(ids, mask, token_type, start, end)\n",
    "    _, start_logits_3, end_logits_3 = model3(ids, mask, token_type, start, end)\n",
    "    _, start_logits_4, end_logits_4 = model4(ids, mask, token_type, start, end)\n",
    "\n",
    "    \n",
    "  start_logits_0 = torch.softmax(start_logits_0, dim=1).detach().cpu().numpy()\n",
    "  start_logits_1 = torch.softmax(start_logits_1, dim=1).detach().cpu().numpy()\n",
    "  start_logits_2 = torch.softmax(start_logits_2, dim=1).detach().cpu().numpy()\n",
    "  start_logits_3 = torch.softmax(start_logits_3, dim=1).detach().cpu().numpy()\n",
    "  start_logits_4 = torch.softmax(start_logits_4, dim=1).detach().cpu().numpy()\n",
    "  \n",
    "    \n",
    "  end_logits_0 = torch.softmax(end_logits_0, dim=1).detach().cpu().numpy()\n",
    "  end_logits_1 = torch.softmax(end_logits_1, dim=1).detach().cpu().numpy()\n",
    "  end_logits_2 = torch.softmax(end_logits_2, dim=1).detach().cpu().numpy()\n",
    "  end_logits_3 = torch.softmax(end_logits_3, dim=1).detach().cpu().numpy()\n",
    "  end_logits_4 = torch.softmax(end_logits_4, dim=1).detach().cpu().numpy()\n",
    "  \n",
    "\n",
    "  start_prob = (start_logits_0 + start_logits_1 + start_logits_2 + start_logits_3 + start_logits_4)/5.0\n",
    "  end_prob = (end_logits_0 + end_logits_1 + end_logits_2 + end_logits_3 + end_logits_4)/5.0\n",
    "\n",
    "\n",
    "  jac_= []\n",
    "  \n",
    "  for px, s in enumerate(text):\n",
    "    start_idx = np.argmax(start_prob[px,:])\n",
    "    end_idx = np.argmax(end_prob[px,:])\n",
    "\n",
    "    js, exp = evaluate_jaccard(s, expansion[px], acronym[px], offset[px], start_idx, end_idx)\n",
    "    jac_.append(js)\n",
    "    pred_expansion_.append(exp)\n",
    "\n",
    "  \n",
    "  jac.update(np.mean(jac_), len(jac_))\n",
    "  \n",
    "  tk0.set_postfix(jaccard=jac.avg)\n",
    "  "
   ]
  },
  {
   "cell_type": "code",
   "execution_count": 17,
   "metadata": {
    "execution": {
     "iopub.execute_input": "2020-12-04T03:16:41.443573Z",
     "iopub.status.busy": "2020-12-04T03:16:41.442940Z",
     "iopub.status.idle": "2020-12-04T03:16:41.447204Z",
     "shell.execute_reply": "2020-12-04T03:16:41.446721Z"
    },
    "papermill": {
     "duration": 0.030946,
     "end_time": "2020-12-04T03:16:41.447298",
     "exception": false,
     "start_time": "2020-12-04T03:16:41.416352",
     "status": "completed"
    },
    "tags": []
   },
   "outputs": [],
   "source": [
    "test['pred_expansion'] = pred_expansion_"
   ]
  },
  {
   "cell_type": "code",
   "execution_count": 18,
   "metadata": {
    "execution": {
     "iopub.execute_input": "2020-12-04T03:16:41.502782Z",
     "iopub.status.busy": "2020-12-04T03:16:41.502080Z",
     "iopub.status.idle": "2020-12-04T03:16:41.512441Z",
     "shell.execute_reply": "2020-12-04T03:16:41.511903Z"
    },
    "papermill": {
     "duration": 0.044556,
     "end_time": "2020-12-04T03:16:41.512540",
     "exception": false,
     "start_time": "2020-12-04T03:16:41.467984",
     "status": "completed"
    },
    "tags": []
   },
   "outputs": [
    {
     "data": {
      "text/html": [
       "<div>\n",
       "<style scoped>\n",
       "    .dataframe tbody tr th:only-of-type {\n",
       "        vertical-align: middle;\n",
       "    }\n",
       "\n",
       "    .dataframe tbody tr th {\n",
       "        vertical-align: top;\n",
       "    }\n",
       "\n",
       "    .dataframe thead th {\n",
       "        text-align: right;\n",
       "    }\n",
       "</style>\n",
       "<table border=\"1\" class=\"dataframe\">\n",
       "  <thead>\n",
       "    <tr style=\"text-align: right;\">\n",
       "      <th></th>\n",
       "      <th>acronym_</th>\n",
       "      <th>id</th>\n",
       "      <th>text</th>\n",
       "      <th>expansion</th>\n",
       "      <th>pred_expansion</th>\n",
       "    </tr>\n",
       "  </thead>\n",
       "  <tbody>\n",
       "    <tr>\n",
       "      <th>0</th>\n",
       "      <td>AD</td>\n",
       "      <td>TS-0</td>\n",
       "      <td>Experiment 2 : As an indirect way of measuring...</td>\n",
       "      <td>AD</td>\n",
       "      <td>alzheimer 's disease</td>\n",
       "    </tr>\n",
       "    <tr>\n",
       "      <th>1</th>\n",
       "      <td>SVM</td>\n",
       "      <td>TS-1</td>\n",
       "      <td>We consider a finite set of SVM regularization...</td>\n",
       "      <td>SVM</td>\n",
       "      <td>support vector machine</td>\n",
       "    </tr>\n",
       "    <tr>\n",
       "      <th>2</th>\n",
       "      <td>POS</td>\n",
       "      <td>TS-2</td>\n",
       "      <td>Skeleton n - grams with standard POS : Sorcery...</td>\n",
       "      <td>POS</td>\n",
       "      <td>part of speech</td>\n",
       "    </tr>\n",
       "    <tr>\n",
       "      <th>3</th>\n",
       "      <td>CT</td>\n",
       "      <td>TS-3</td>\n",
       "      <td>The dice loss for th CT image in equation 5eq ...</td>\n",
       "      <td>CT</td>\n",
       "      <td>computed tomography</td>\n",
       "    </tr>\n",
       "    <tr>\n",
       "      <th>4</th>\n",
       "      <td>DCM</td>\n",
       "      <td>TS-4</td>\n",
       "      <td>Although we can represent every DCM as a BCF ,...</td>\n",
       "      <td>DCM</td>\n",
       "      <td>discrete choice models</td>\n",
       "    </tr>\n",
       "  </tbody>\n",
       "</table>\n",
       "</div>"
      ],
      "text/plain": [
       "  acronym_    id                                               text expansion  \\\n",
       "0       AD  TS-0  Experiment 2 : As an indirect way of measuring...        AD   \n",
       "1      SVM  TS-1  We consider a finite set of SVM regularization...       SVM   \n",
       "2      POS  TS-2  Skeleton n - grams with standard POS : Sorcery...       POS   \n",
       "3       CT  TS-3  The dice loss for th CT image in equation 5eq ...        CT   \n",
       "4      DCM  TS-4  Although we can represent every DCM as a BCF ,...       DCM   \n",
       "\n",
       "           pred_expansion  \n",
       "0    alzheimer 's disease  \n",
       "1  support vector machine  \n",
       "2          part of speech  \n",
       "3     computed tomography  \n",
       "4  discrete choice models  "
      ]
     },
     "execution_count": 18,
     "metadata": {},
     "output_type": "execute_result"
    }
   ],
   "source": [
    "test.head()"
   ]
  },
  {
   "cell_type": "code",
   "execution_count": 19,
   "metadata": {
    "execution": {
     "iopub.execute_input": "2020-12-04T03:16:41.581215Z",
     "iopub.status.busy": "2020-12-04T03:16:41.570893Z",
     "iopub.status.idle": "2020-12-04T03:16:42.356548Z",
     "shell.execute_reply": "2020-12-04T03:16:42.357974Z"
    },
    "executionInfo": {
     "elapsed": 2438,
     "status": "ok",
     "timestamp": 1602078025534,
     "user": {
      "displayName": "kpriyanshu256.16je001901@ece.ism.ac.in",
      "photoUrl": "",
      "userId": "03532460980266287093"
     },
     "user_tz": -330
    },
    "id": "jkZZ4G89O_yt",
    "papermill": {
     "duration": 0.824259,
     "end_time": "2020-12-04T03:16:42.358177",
     "exception": false,
     "start_time": "2020-12-04T03:16:41.533918",
     "status": "completed"
    },
    "tags": []
   },
   "outputs": [],
   "source": [
    "predictions = []\n",
    "for i, r in test.iterrows():\n",
    "  d = {'id': r['id'], 'prediction': r['pred_expansion']}\n",
    "  predictions.append(d)\n",
    "\n",
    "with open(os.path.join('.', 'pred.json'), 'w') as f:\n",
    "  json.dump(predictions, f)"
   ]
  },
  {
   "cell_type": "code",
   "execution_count": 20,
   "metadata": {
    "execution": {
     "iopub.execute_input": "2020-12-04T03:16:42.441967Z",
     "iopub.status.busy": "2020-12-04T03:16:42.440996Z",
     "iopub.status.idle": "2020-12-04T03:16:42.882748Z",
     "shell.execute_reply": "2020-12-04T03:16:42.881637Z"
    },
    "papermill": {
     "duration": 0.490319,
     "end_time": "2020-12-04T03:16:42.882888",
     "exception": false,
     "start_time": "2020-12-04T03:16:42.392569",
     "status": "completed"
    },
    "tags": []
   },
   "outputs": [],
   "source": [
    "test.to_csv('test_preds.csv', index=False)"
   ]
  }
 ],
 "metadata": {
  "kernelspec": {
   "display_name": "Python 3",
   "language": "python",
   "name": "python3"
  },
  "language_info": {
   "codemirror_mode": {
    "name": "ipython",
    "version": 3
   },
   "file_extension": ".py",
   "mimetype": "text/x-python",
   "name": "python",
   "nbconvert_exporter": "python",
   "pygments_lexer": "ipython3",
   "version": "3.7.6"
  },
  "papermill": {
   "duration": 263.059562,
   "end_time": "2020-12-04T03:16:44.302032",
   "environment_variables": {},
   "exception": null,
   "input_path": "__notebook__.ipynb",
   "output_path": "__notebook__.ipynb",
   "parameters": {},
   "start_time": "2020-12-04T03:12:21.242470",
   "version": "2.1.0"
  },
  "widgets": {
   "application/vnd.jupyter.widget-state+json": {
    "state": {
     "1629f9ae2a8c4336a07a010f41c0f6ad": {
      "model_module": "@jupyter-widgets/base",
      "model_module_version": "1.2.0",
      "model_name": "LayoutModel",
      "state": {
       "_model_module": "@jupyter-widgets/base",
       "_model_module_version": "1.2.0",
       "_model_name": "LayoutModel",
       "_view_count": null,
       "_view_module": "@jupyter-widgets/base",
       "_view_module_version": "1.2.0",
       "_view_name": "LayoutView",
       "align_content": null,
       "align_items": null,
       "align_self": null,
       "border": null,
       "bottom": null,
       "display": null,
       "flex": null,
       "flex_flow": null,
       "grid_area": null,
       "grid_auto_columns": null,
       "grid_auto_flow": null,
       "grid_auto_rows": null,
       "grid_column": null,
       "grid_gap": null,
       "grid_row": null,
       "grid_template_areas": null,
       "grid_template_columns": null,
       "grid_template_rows": null,
       "height": null,
       "justify_content": null,
       "justify_items": null,
       "left": null,
       "margin": null,
       "max_height": null,
       "max_width": null,
       "min_height": null,
       "min_width": null,
       "object_fit": null,
       "object_position": null,
       "order": null,
       "overflow": null,
       "overflow_x": null,
       "overflow_y": null,
       "padding": null,
       "right": null,
       "top": null,
       "visibility": null,
       "width": null
      }
     },
     "3c0e488da9e74c9c915e5922375106f5": {
      "model_module": "@jupyter-widgets/controls",
      "model_module_version": "1.5.0",
      "model_name": "DescriptionStyleModel",
      "state": {
       "_model_module": "@jupyter-widgets/controls",
       "_model_module_version": "1.5.0",
       "_model_name": "DescriptionStyleModel",
       "_view_count": null,
       "_view_module": "@jupyter-widgets/base",
       "_view_module_version": "1.2.0",
       "_view_name": "StyleView",
       "description_width": ""
      }
     },
     "45e3dd9906b940b988c83e0759ac1bad": {
      "model_module": "@jupyter-widgets/base",
      "model_module_version": "1.2.0",
      "model_name": "LayoutModel",
      "state": {
       "_model_module": "@jupyter-widgets/base",
       "_model_module_version": "1.2.0",
       "_model_name": "LayoutModel",
       "_view_count": null,
       "_view_module": "@jupyter-widgets/base",
       "_view_module_version": "1.2.0",
       "_view_name": "LayoutView",
       "align_content": null,
       "align_items": null,
       "align_self": null,
       "border": null,
       "bottom": null,
       "display": null,
       "flex": null,
       "flex_flow": null,
       "grid_area": null,
       "grid_auto_columns": null,
       "grid_auto_flow": null,
       "grid_auto_rows": null,
       "grid_column": null,
       "grid_gap": null,
       "grid_row": null,
       "grid_template_areas": null,
       "grid_template_columns": null,
       "grid_template_rows": null,
       "height": null,
       "justify_content": null,
       "justify_items": null,
       "left": null,
       "margin": null,
       "max_height": null,
       "max_width": null,
       "min_height": null,
       "min_width": null,
       "object_fit": null,
       "object_position": null,
       "order": null,
       "overflow": null,
       "overflow_x": null,
       "overflow_y": null,
       "padding": null,
       "right": null,
       "top": null,
       "visibility": null,
       "width": null
      }
     },
     "9a9db8cccdf94700b1878bd2db38812b": {
      "model_module": "@jupyter-widgets/controls",
      "model_module_version": "1.5.0",
      "model_name": "HBoxModel",
      "state": {
       "_dom_classes": [],
       "_model_module": "@jupyter-widgets/controls",
       "_model_module_version": "1.5.0",
       "_model_name": "HBoxModel",
       "_view_count": null,
       "_view_module": "@jupyter-widgets/controls",
       "_view_module_version": "1.5.0",
       "_view_name": "HBoxView",
       "box_style": "",
       "children": [
        "IPY_MODEL_cbc0bd729cc64f1e8268af9e6dac3f2b",
        "IPY_MODEL_e369abd873784d8abde57adef3190f0f"
       ],
       "layout": "IPY_MODEL_45e3dd9906b940b988c83e0759ac1bad"
      }
     },
     "c065254bdaee47188722be3886db2492": {
      "model_module": "@jupyter-widgets/controls",
      "model_module_version": "1.5.0",
      "model_name": "ProgressStyleModel",
      "state": {
       "_model_module": "@jupyter-widgets/controls",
       "_model_module_version": "1.5.0",
       "_model_name": "ProgressStyleModel",
       "_view_count": null,
       "_view_module": "@jupyter-widgets/base",
       "_view_module_version": "1.2.0",
       "_view_name": "StyleView",
       "bar_color": null,
       "description_width": "initial"
      }
     },
     "cbc0bd729cc64f1e8268af9e6dac3f2b": {
      "model_module": "@jupyter-widgets/controls",
      "model_module_version": "1.5.0",
      "model_name": "FloatProgressModel",
      "state": {
       "_dom_classes": [],
       "_model_module": "@jupyter-widgets/controls",
       "_model_module_version": "1.5.0",
       "_model_name": "FloatProgressModel",
       "_view_count": null,
       "_view_module": "@jupyter-widgets/controls",
       "_view_module_version": "1.5.0",
       "_view_name": "ProgressView",
       "bar_style": "success",
       "description": "100%",
       "description_tooltip": null,
       "layout": "IPY_MODEL_1629f9ae2a8c4336a07a010f41c0f6ad",
       "max": 389.0,
       "min": 0.0,
       "orientation": "horizontal",
       "style": "IPY_MODEL_c065254bdaee47188722be3886db2492",
       "value": 389.0
      }
     },
     "e369abd873784d8abde57adef3190f0f": {
      "model_module": "@jupyter-widgets/controls",
      "model_module_version": "1.5.0",
      "model_name": "HTMLModel",
      "state": {
       "_dom_classes": [],
       "_model_module": "@jupyter-widgets/controls",
       "_model_module_version": "1.5.0",
       "_model_name": "HTMLModel",
       "_view_count": null,
       "_view_module": "@jupyter-widgets/controls",
       "_view_module_version": "1.5.0",
       "_view_name": "HTMLView",
       "description": "",
       "description_tooltip": null,
       "layout": "IPY_MODEL_e7864e18d86e45b58978fe0e79947267",
       "placeholder": "​",
       "style": "IPY_MODEL_3c0e488da9e74c9c915e5922375106f5",
       "value": " 389/389 [03:21&lt;00:00,  1.93it/s, jaccard=0.994]"
      }
     },
     "e7864e18d86e45b58978fe0e79947267": {
      "model_module": "@jupyter-widgets/base",
      "model_module_version": "1.2.0",
      "model_name": "LayoutModel",
      "state": {
       "_model_module": "@jupyter-widgets/base",
       "_model_module_version": "1.2.0",
       "_model_name": "LayoutModel",
       "_view_count": null,
       "_view_module": "@jupyter-widgets/base",
       "_view_module_version": "1.2.0",
       "_view_name": "LayoutView",
       "align_content": null,
       "align_items": null,
       "align_self": null,
       "border": null,
       "bottom": null,
       "display": null,
       "flex": null,
       "flex_flow": null,
       "grid_area": null,
       "grid_auto_columns": null,
       "grid_auto_flow": null,
       "grid_auto_rows": null,
       "grid_column": null,
       "grid_gap": null,
       "grid_row": null,
       "grid_template_areas": null,
       "grid_template_columns": null,
       "grid_template_rows": null,
       "height": null,
       "justify_content": null,
       "justify_items": null,
       "left": null,
       "margin": null,
       "max_height": null,
       "max_width": null,
       "min_height": null,
       "min_width": null,
       "object_fit": null,
       "object_position": null,
       "order": null,
       "overflow": null,
       "overflow_x": null,
       "overflow_y": null,
       "padding": null,
       "right": null,
       "top": null,
       "visibility": null,
       "width": null
      }
     }
    },
    "version_major": 2,
    "version_minor": 0
   }
  }
 },
 "nbformat": 4,
 "nbformat_minor": 4
}
